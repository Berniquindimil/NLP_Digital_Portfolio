{
 "cells": [
  {
   "cell_type": "markdown",
   "metadata": {},
   "source": [
    "# Exercises start\n",
    "\n",
    "Please solve this exercises. Do it **WITHOUT ANY AI HELP**."
   ]
  },
  {
   "cell_type": "code",
   "execution_count": 10,
   "metadata": {},
   "outputs": [
    {
     "name": "stdout",
     "output_type": "stream",
     "text": [
      "['cats', 'babies', 'wolves', 'boxes', 'children', 'men', 'mouses', 'knives', 'bushes']\n"
     ]
    }
   ],
   "source": [
    "# Exercise 1: Make Plurals\n",
    "# Write a program to generate plural forms of English nouns from a given list of singular nouns.\n",
    "# Simplification rules:\n",
    "# 1. Add 's' to most words (e.g., \"cat\" -> \"cats\").\n",
    "# 2. If the word ends with 'y' and is preceded by a consonant, replace 'y' with 'ies' (e.g., \"baby\" -> \"babies\").\n",
    "# 3. If the word ends with 'f' or 'fe', replace it with 'ves' (e.g., \"wolf\" -> \"wolves\").\n",
    "# 4. Add 'es' to words ending in 's', 'x', 'z', 'ch', or 'sh' (e.g., \"box\" -> \"boxes\").\n",
    "# 5. For irregular nouns, handle exceptions (e.g., \"child\" -> \"children\", \"man\" -> \"men\").\n",
    "\n",
    "nouns = [\"cat\", \"baby\", \"wolf\", \"box\", \"child\", \"man\", \"mouse\", \"knife\", \"bush\"]\n",
    "def generate_plurals(list):\n",
    "    plural_list = []\n",
    "    for word in list:\n",
    "        if word.endswith(\"y\"):\n",
    "            plural_word = word[:len(word)-1] + \"ies\"\n",
    "            plural_list.append(plural_word)\n",
    "        elif word.endswith(\"f\"):\n",
    "            plural_word = word[:len(word)-1] + \"ves\"\n",
    "            plural_list.append(plural_word)\n",
    "        elif word.endswith(\"fe\"):\n",
    "            plural_word = word[:len(word)-2] + \"ves\"\n",
    "            plural_list.append(plural_word)\n",
    "        elif word.endswith(\"s\") or word.endswith(\"x\") or word.endswith(\"x\"):\n",
    "            plural_word = word[:len(word)] + \"es\"\n",
    "            plural_list.append(plural_word)\n",
    "        elif word.endswith(\"ch\") or word.endswith(\"sh\"):\n",
    "            plural_word = word[:len(word)] + \"es\"\n",
    "            plural_list.append(plural_word)\n",
    "        elif word == \"child\":\n",
    "            plural_word = word + \"ren\"\n",
    "            plural_list.append(plural_word)\n",
    "        elif word == \"man\":\n",
    "            plural_word = \"men\"\n",
    "            plural_list.append(plural_word)\n",
    "        else:\n",
    "            plural_word = word + \"s\"\n",
    "            plural_list.append(plural_word)\n",
    "    return plural_list\n",
    "\n",
    "print(generate_plurals(nouns))"
   ]
  },
  {
   "cell_type": "code",
   "execution_count": 11,
   "metadata": {},
   "outputs": [
    {
     "name": "stdout",
     "output_type": "stream",
     "text": [
      "The emails are: ['support@example.com,', 'sales@example.org,', 'admin123@example.net']\n"
     ]
    }
   ],
   "source": [
    "# Exercise 2: Extract Email Addresses\n",
    "# Write a Python program to extract all email addresses from the following string.\n",
    "text = \"Please contact us at support@example.com, sales@example.org, or admin123@example.net for assistance.\"\n",
    "def email_extractor(string):\n",
    "    words_list = string.split(\" \")\n",
    "    emails = []\n",
    "    for word in words_list:\n",
    "        if \"@example.\" in word:\n",
    "            emails.append(word)\n",
    "    return emails\n",
    "\n",
    "print(f\"The emails are: {email_extractor(text)}\")"
   ]
  },
  {
   "cell_type": "code",
   "execution_count": 18,
   "metadata": {},
   "outputs": [
    {
     "name": "stdout",
     "output_type": "stream",
     "text": [
      "['#sunset', '#beach']\n"
     ]
    }
   ],
   "source": [
    "\n",
    "# Exercise 3: Extract Hashtags\n",
    "# From a tweet, extract all valid hashtags.\n",
    "tweet = \"Loving the #sunset at the #beach! But #123abc and ##double are #invalid#tags.\"\n",
    "def valid_tags(tweet):\n",
    "    words_list = tweet.split(\" \")\n",
    "    tags = []\n",
    "    for word in words_list:\n",
    "        if word.startswith(\"#\"):\n",
    "            is_tag = True\n",
    "            for letter in word[1:len(word)-1]:\n",
    "                if not letter.isalpha():\n",
    "                    is_tag = False\n",
    "                    break\n",
    "            if is_tag == True:\n",
    "                if not word[len(word)-1].isalpha():\n",
    "                    tags.append(word[:len(word)-1]) \n",
    "                else:\n",
    "                    tags.append(word) \n",
    "    return tags\n",
    "\n",
    "print(valid_tags(tweet))"
   ]
  }
 ],
 "metadata": {
  "kernelspec": {
   "display_name": "base",
   "language": "python",
   "name": "python3"
  },
  "language_info": {
   "codemirror_mode": {
    "name": "ipython",
    "version": 3
   },
   "file_extension": ".py",
   "mimetype": "text/x-python",
   "name": "python",
   "nbconvert_exporter": "python",
   "pygments_lexer": "ipython3",
   "version": "3.11.8"
  }
 },
 "nbformat": 4,
 "nbformat_minor": 2
}
