{
 "cells": [
  {
   "cell_type": "markdown",
   "metadata": {},
   "source": [
    "# Exercises before\n",
    "\n",
    "Create a corpus with phrases and annotate it with positive or negative. Build a very simple sentiment analysis with regex and use corpus to calculate sentiment (positive or negative). Count how many True Positives (TP), False Positives (FP), True Negatives (TN), and False Negatives (FN) you have. Tweet the corpus or the regexp to have non-zero variables. Make the calculations of Precission, Recall, and F1 following the class materials.   "
   ]
  },
  {
   "cell_type": "code",
   "execution_count": 6,
   "metadata": {},
   "outputs": [],
   "source": [
    "import re"
   ]
  },
  {
   "cell_type": "code",
   "execution_count": null,
   "metadata": {},
   "outputs": [],
   "source": [
    "# Create the corpus\n",
    "corpus = [\n",
    "    (\"I love this product, it is amazing!\", \"positive\"),\n",
    "    (\"This is the worst experience ever.\", \"negative\"),\n",
    "    (\"I am very happy with the service.\", \"positive\"),\n",
    "    (\"I hate this so much.\", \"negative\"),\n",
    "    (\"This is fantastic!\", \"positive\"),\n",
    "    (\"I am not satisfied with the quality.\", \"negative\"),\n",
    "    (\"The customer support was excellent.\", \"positive\"),\n",
    "    (\"This is terrible.\", \"negative\"),\n",
    "    (\"I am delighted with my purchase.\", \"positive\"),\n",
    "    (\"I am disappointed.\", \"negative\"),\n",
    "    (\"I love this product, it is amazing!\", \"positive\")\n",
    "]"
   ]
  },
  {
   "cell_type": "code",
   "execution_count": 8,
   "metadata": {},
   "outputs": [],
   "source": [
    "# Define the positive and negative patterns\n",
    "positive_pattern = r'\\b(love|amazing|happy|fantastic|excellent|delighted)\\b'\n",
    "negative_pattern = r'\\b(worst|hate|terrible|not satisfied|disappointed)\\b'"
   ]
  },
  {
   "cell_type": "code",
   "execution_count": 11,
   "metadata": {},
   "outputs": [
    {
     "name": "stdout",
     "output_type": "stream",
     "text": [
      "TP: 5\n",
      "FP: 0\n",
      "TN: 5\n",
      "FN: 0\n"
     ]
    }
   ],
   "source": [
    "TP = FP = TN = FN = 0\n",
    "\n",
    "for text, true_label in corpus:\n",
    "    if re.search(positive_pattern, text, re.IGNORECASE):\n",
    "        if true_label == \"positive\":\n",
    "            TP += 1\n",
    "        else:\n",
    "            FP += 1\n",
    "    elif re.search(negative_pattern, text, re.IGNORECASE):\n",
    "        if true_label == \"negative\":\n",
    "            TN += 1\n",
    "        else:\n",
    "            FN += 1\n",
    "\n",
    "print(f\"TP: {TP}\")\n",
    "print(f\"FP: {FP}\")\n",
    "print(f\"TN: {TN}\")\n",
    "print(f\"FN: {FN}\")"
   ]
  },
  {
   "cell_type": "code",
   "execution_count": 12,
   "metadata": {},
   "outputs": [
    {
     "name": "stdout",
     "output_type": "stream",
     "text": [
      "Precisión: 1.00\n",
      "Recall: 1.00\n",
      "F1 Score: 1.00\n"
     ]
    }
   ],
   "source": [
    "precision = TP / (TP + FP) if (TP + FP) > 0 else 0\n",
    "recall = TP / (TP + FN) if (TP + FN) > 0 else 0\n",
    "f1_score = 2 * (precision * recall) / (precision + recall) if (precision + recall) > 0 else 0\n",
    "\n",
    "print(f\"Precisión: {precision:.2f}\")\n",
    "print(f\"Recall: {recall:.2f}\")\n",
    "print(f\"F1 Score: {f1_score:.2f}\")"
   ]
  }
 ],
 "metadata": {
  "kernelspec": {
   "display_name": "base",
   "language": "python",
   "name": "python3"
  },
  "language_info": {
   "codemirror_mode": {
    "name": "ipython",
    "version": 3
   },
   "file_extension": ".py",
   "mimetype": "text/x-python",
   "name": "python",
   "nbconvert_exporter": "python",
   "pygments_lexer": "ipython3",
   "version": "3.11.8"
  }
 },
 "nbformat": 4,
 "nbformat_minor": 2
}
