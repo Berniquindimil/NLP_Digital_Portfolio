{
 "cells": [
  {
   "cell_type": "markdown",
   "metadata": {},
   "source": [
    "# Python exercises related with NLP\n",
    "\n",
    "This is a level test exercise. The purpose is to get your level in python programming oriented to NLP. \n",
    "\n",
    "Solve (and test) the next exercises in the block below each topic. **Use your python expertise and official python manual ONLY**: [https://docs.python.org/3/](https://docs.python.org/3/). The teachers are on the classroom to help.\n"
   ]
  },
  {
   "cell_type": "markdown",
   "metadata": {},
   "source": [
    "## Topic 1: Working with Strings\n",
    "\n",
    "1. Write a program that takes a string input from the user and prints the length of the string.\n",
    "2. Create a program that converts a given string to uppercase.\n",
    "3. Write a function that checks if a string contains only alphabets.\n",
    "4. Reverse a string without using slicing (e.g., string[::-1]).\n",
    "5. Count how many times a specific character appears in a string.\n",
    "6. Write a function that takes two strings and checks if they are anagrams.\n",
    "7. Implement a function that removes all vowels from a given string.\n",
    "8. Write a function that checks if a string is a palindrome (case-insensitive).\n",
    "9. Given a string, return the first non-repeating character.\n",
    "10. Create a function that capitalizes the first letter of each word in a string.\n",
    "11. Write a program to compress a string (e.g., \"aaabb\" -> \"a3b2\").\n",
    "12. Implement a function to find the longest substring without repeating characters.\n",
    "13. Write a program to check if a string can be rearranged into a palindrome.\n",
    "14. Implement a function that removes all duplicates from a string while preserving the order of characters.\n",
    "15. Write a function to find the longest common prefix among a list of strings.\n",
    "16. Implement a custom `split` function without using Python's built-in methods.\n",
    "17. Write a function to decode a given run-length encoded string (e.g., \"a3b2\" -> \"aaabb\").\n",
    "18. Implement a function to check if one string is a rotation of another.\n",
    "19. Create a function to find all permutations of a given string.\n",
    "20. Write a function to implement a basic version of the `str.index` method."
   ]
  },
  {
   "cell_type": "code",
   "execution_count": 1,
   "metadata": {},
   "outputs": [
    {
     "data": {
      "text/plain": [
       "1"
      ]
     },
     "execution_count": 1,
     "metadata": {},
     "output_type": "execute_result"
    }
   ],
   "source": [
    "# 1. Write a program that takes a string input from the user and prints the length of the string.\n",
    "input_user =input(\"Put something\")\n",
    "len(input_user)"
   ]
  },
  {
   "cell_type": "code",
   "execution_count": 2,
   "metadata": {},
   "outputs": [
    {
     "data": {
      "text/plain": [
       "'A'"
      ]
     },
     "execution_count": 2,
     "metadata": {},
     "output_type": "execute_result"
    }
   ],
   "source": [
    "# 2. Create a program that converts a given string to uppercase.\n",
    "input_user.upper()"
   ]
  },
  {
   "cell_type": "code",
   "execution_count": 3,
   "metadata": {},
   "outputs": [
    {
     "name": "stdout",
     "output_type": "stream",
     "text": [
      "it is an alphabet\n",
      "it doesn't contains only alphabets\n"
     ]
    }
   ],
   "source": [
    "# 3. Write a function that checks if a string contains only alphabets.\n",
    "def alphabet_checker(string):\n",
    "    for letter in string:\n",
    "        if letter.isalpha():\n",
    "            print(\"it is an alphabet\")\n",
    "        else:\n",
    "            print(\"it doesn't contains only alphabets\")\n",
    "            break\n",
    "      \n",
    "alphabet_checker('b5ernardo')"
   ]
  },
  {
   "cell_type": "code",
   "execution_count": 4,
   "metadata": {},
   "outputs": [
    {
     "name": "stdout",
     "output_type": "stream",
     "text": [
      "it doesn't contains only alphabets\n"
     ]
    }
   ],
   "source": [
    "def alphabet_checker(string):\n",
    "    for letter in string:\n",
    "        if not letter.isalpha():\n",
    "            print(\"it doesn't contains only alphabets\")\n",
    "            return\n",
    "    print(\"it is an alphabet\")\n",
    "\n",
    "alphabet_checker('bern8ardo')"
   ]
  },
  {
   "cell_type": "code",
   "execution_count": 5,
   "metadata": {},
   "outputs": [
    {
     "name": "stdout",
     "output_type": "stream",
     "text": [
      "saíd soneuB\n"
     ]
    }
   ],
   "source": [
    "# 4. Reverse a string without using slicing (e.g., string[::-1]).\n",
    "def reversed_string(string):\n",
    "    reversed_string = \"\"\n",
    "    for character in string:\n",
    "        reversed_string = character + reversed_string\n",
    "    return reversed_string\n",
    "\n",
    "print(reversed_string(\"Buenos días\"))"
   ]
  },
  {
   "cell_type": "code",
   "execution_count": 6,
   "metadata": {},
   "outputs": [
    {
     "name": "stdout",
     "output_type": "stream",
     "text": [
      "1\n"
     ]
    }
   ],
   "source": [
    "# 5. Count how many times a specific character appears in a string.\n",
    "def count_character(string, character):\n",
    "    count = 0\n",
    "    string = string.lower()\n",
    "    character = character.lower()\n",
    "    for letter in string:\n",
    "        if letter == character:\n",
    "            count += 1\n",
    "    return count\n",
    "\n",
    "string = input('Put an string')\n",
    "character = input('Put a character for be counted')\n",
    "\n",
    "print(count_character(string, character))"
   ]
  },
  {
   "cell_type": "code",
   "execution_count": 7,
   "metadata": {},
   "outputs": [
    {
     "name": "stdout",
     "output_type": "stream",
     "text": [
      "They are anagrams\n"
     ]
    }
   ],
   "source": [
    "# 6. Write a function that takes two strings and checks if they are anagrams.\n",
    "def anagrams_checker(word1, word2):\n",
    "    for letter1 in word1:\n",
    "        if not word1.count(letter1) == word2.count(letter1):\n",
    "            print('They aren´t anagrams')\n",
    "            return\n",
    "    for letter2 in word2:\n",
    "        if not word1.count(letter2) == word2.count(letter2):\n",
    "            print('They aren´t anagrams')\n",
    "            return\n",
    "    print(\"They are anagrams\")\n",
    "        \n",
    "\n",
    "anagrams_checker('cara', 'arca')"
   ]
  },
  {
   "cell_type": "code",
   "execution_count": 8,
   "metadata": {},
   "outputs": [
    {
     "name": "stdout",
     "output_type": "stream",
     "text": [
      "Brn8rd\n"
     ]
    }
   ],
   "source": [
    "# 7. Implement a function that removes all vowels from a given string.\n",
    "vowels = \"aeiou\"\n",
    "def remove_vowels(string):\n",
    "    new_string = \"\"\n",
    "    for char in string:\n",
    "        if char not in vowels:\n",
    "            new_string = new_string + char\n",
    "    return new_string\n",
    "\n",
    "new_string = remove_vowels(\"Bern8ardo\")\n",
    "print(new_string)"
   ]
  },
  {
   "cell_type": "code",
   "execution_count": 9,
   "metadata": {},
   "outputs": [
    {
     "name": "stdout",
     "output_type": "stream",
     "text": [
      "It is a palindrome string\n"
     ]
    }
   ],
   "source": [
    "# 8. Write a function that checks if a string is a palindrome (case-insensitive).\n",
    "def palindrome_checker(string):\n",
    "    reversed = reversed_string(string)\n",
    "    if reversed == string:\n",
    "        print(\"It is a palindrome string\")\n",
    "    else:\n",
    "        print(\"It isn't a palindrome string\")\n",
    "\n",
    "palindrome_checker(\"ab7ba\")"
   ]
  },
  {
   "cell_type": "code",
   "execution_count": 10,
   "metadata": {},
   "outputs": [
    {
     "name": "stdout",
     "output_type": "stream",
     "text": [
      "Helo wrd\n"
     ]
    }
   ],
   "source": [
    "# 9. Given a string, return the first non-repeating character.\n",
    "def non_repeating_characters(string):\n",
    "    new_str = \"\"\n",
    "    for char in string:\n",
    "        if char not in new_str:\n",
    "            new_str += char\n",
    "    return new_str\n",
    "\n",
    "new_string = non_repeating_characters(\"Hello world\")\n",
    "print(new_string)"
   ]
  },
  {
   "cell_type": "code",
   "execution_count": 11,
   "metadata": {},
   "outputs": [
    {
     "name": "stdout",
     "output_type": "stream",
     "text": [
      "Hello World My Name Is Bernardo \n"
     ]
    }
   ],
   "source": [
    "# 10. Create a function that capitalizes the first letter of each word in a string.\n",
    "def capitalize_words(string):\n",
    "    list = string.split(\" \")\n",
    "    new_string = \"\"\n",
    "    for element in list:\n",
    "        word = element.capitalize()\n",
    "        new_string += word + \" \"\n",
    "    return new_string\n",
    "\n",
    "print(capitalize_words(\"Hello world my name is Bernardo\"))"
   ]
  },
  {
   "cell_type": "code",
   "execution_count": 12,
   "metadata": {},
   "outputs": [
    {
     "name": "stdout",
     "output_type": "stream",
     "text": [
      "a3b2c4\n"
     ]
    }
   ],
   "source": [
    "# 11. Write a program to compress a string (e.g., \"aaabb\" -> \"a3b2\").\n",
    "def compress_strings(string):\n",
    "    new_string = \"\"\n",
    "    last_char = string[0]\n",
    "    count = 1\n",
    "    for char in string[1:]:\n",
    "        if char == last_char:\n",
    "            count += 1\n",
    "        else:\n",
    "            new_string = new_string + last_char + f\"{count}\"\n",
    "            count = 1\n",
    "            last_char = char\n",
    "\n",
    "    new_string += last_char + str(count)       \n",
    "    return new_string\n",
    "\n",
    "print(compress_strings(\"aaabbcccc\"))\n"
   ]
  },
  {
   "cell_type": "code",
   "execution_count": 13,
   "metadata": {},
   "outputs": [
    {
     "name": "stdout",
     "output_type": "stream",
     "text": [
      "['hi world,', 'world, my', 'ld, my na', 'me is', 'is berna', 'nardo ', 'and i', ' i have', 'have 21', 'e 21 y']\n",
      "hi world,\n"
     ]
    }
   ],
   "source": [
    "# 12. Implement a function to find the longest substring without repeating characters.\n",
    "def substring_list(string):\n",
    "    string = string.lower()\n",
    "    substring = string[0]\n",
    "    string_list = []\n",
    "    for char in string[1:]:\n",
    "        if char in substring:\n",
    "            string_list.append(substring)\n",
    "            indice = string.index(char)\n",
    "            substring = substring[indice+1:] + char\n",
    "        else:\n",
    "            substring += char\n",
    "    return string_list\n",
    "\n",
    "def find_longest(list):\n",
    "    longest_str = \"\"\n",
    "    for str in list:\n",
    "        if len(str) > len(longest_str):\n",
    "            longest_str = str\n",
    "    return longest_str\n",
    "\n",
    "string_list = substring_list(\"Hi world, my name is Bernardo and I have 21 years old.\")\n",
    "print(string_list)\n",
    "print(find_longest(string_list))"
   ]
  },
  {
   "cell_type": "code",
   "execution_count": 14,
   "metadata": {},
   "outputs": [
    {
     "name": "stdout",
     "output_type": "stream",
     "text": [
      "Longest substring: 'years old.' with length: 10\n"
     ]
    }
   ],
   "source": [
    "# Copilot\n",
    "def longest_unique_substring(s):\n",
    "    start = 0\n",
    "    max_length = 0\n",
    "    longest_substr = \"\"\n",
    "    used_chars = {}\n",
    "    \n",
    "    for i, char in enumerate(s):\n",
    "        if char in used_chars and start <= used_chars[char]:\n",
    "            start = used_chars[char] + 1\n",
    "        else:\n",
    "            if i - start + 1 > max_length:\n",
    "                max_length = i - start + 1\n",
    "                longest_substr = s[start:i+1]\n",
    "        \n",
    "        used_chars[char] = i\n",
    "    \n",
    "    return max_length, longest_substr\n",
    "\n",
    "# Ejemplo de uso\n",
    "string = \"Hi world, my name is Bernardo and I have 21 years old.\"\n",
    "length, result = longest_unique_substring(string)\n",
    "print(f\"Longest substring: '{result}' with length: {length}\")"
   ]
  },
  {
   "cell_type": "code",
   "execution_count": 15,
   "metadata": {},
   "outputs": [
    {
     "name": "stdout",
     "output_type": "stream",
     "text": [
      "The string can be rearranged into a palindrome\n"
     ]
    }
   ],
   "source": [
    "# 13. Write a program to check if a string can be rearranged into a palindrome.\n",
    "def rearranged_into_a_palindrome(string):\n",
    "    '''\n",
    "    Prove if there are one char is repeated impar times at most\n",
    "    '''\n",
    "    impar_times = 0\n",
    "    repeated_chars=\"\"\n",
    "    for char in string:\n",
    "        if char not in repeated_chars:\n",
    "            if string.count(char)%2 != 0:\n",
    "                impar_times +=1\n",
    "            repeated_chars += char\n",
    "    \n",
    "    if impar_times<=1:\n",
    "        print(\"The string can be rearranged into a palindrome\")\n",
    "    else:\n",
    "        print(\"The string can't be rearranged into a palindrome\")\n",
    "    \n",
    "rearranged_into_a_palindrome(\"aaababccd\")"
   ]
  },
  {
   "cell_type": "code",
   "execution_count": 16,
   "metadata": {},
   "outputs": [
    {
     "name": "stdout",
     "output_type": "stream",
     "text": [
      "abcde\n"
     ]
    }
   ],
   "source": [
    "# 14. Implement a function that removes all duplicates from a string while preserving the order of characters.\n",
    "def removing_repeated_chars(string):\n",
    "    new_string=\"\"\n",
    "    for char in string:\n",
    "        if char not in new_string:\n",
    "            new_string += char\n",
    "    return new_string\n",
    "\n",
    "new_string = removing_repeated_chars(\"aaaaaabbbbbcdddee\")\n",
    "print(new_string)"
   ]
  },
  {
   "cell_type": "code",
   "execution_count": 48,
   "metadata": {},
   "outputs": [
    {
     "name": "stdout",
     "output_type": "stream",
     "text": [
      "The longest string is 'aaaaaabaa'\n"
     ]
    }
   ],
   "source": [
    "# 15. Write a function to find the longest common prefix among a list of strings.\n",
    "def longest_common_prefix(list:list):\n",
    "    longest_prefix = \"\"\n",
    "    equal_prefix = \"\"\n",
    "    for string1 in list:\n",
    "        list.remove(string1)\n",
    "        for string2 in list:\n",
    "            for char1, char2 in zip(string1, string2):\n",
    "                if char1 == char2:\n",
    "                    equal_prefix += char1\n",
    "                else:\n",
    "                    break\n",
    "            if len(equal_prefix) > len(longest_prefix):\n",
    "                longest_prefix = equal_prefix\n",
    "    return longest_prefix\n",
    "\n",
    "strings_list = [\"a\", \"aaabac\", \"aaabaaa\", \"abaaba\", \"babababa\"]\n",
    "print(f\"The longest string is '{longest_common_prefix(strings_list)}'\")"
   ]
  },
  {
   "cell_type": "code",
   "execution_count": 32,
   "metadata": {},
   "outputs": [
    {
     "data": {
      "text/plain": [
       "['Hello',\n",
       " 'world,',\n",
       " 'my',\n",
       " 'name',\n",
       " 'is',\n",
       " 'Bernado',\n",
       " 'and',\n",
       " \"I'm\",\n",
       " 'learning',\n",
       " 'Python']"
      ]
     },
     "execution_count": 32,
     "metadata": {},
     "output_type": "execute_result"
    }
   ],
   "source": [
    "# 16. Implement a custom `split` function without using Python's built-in methods.\n",
    "def split_function(string, separate_char):\n",
    "    split = []\n",
    "    substring = \"\"\n",
    "    for char in string:\n",
    "        if char == separate_char:\n",
    "            split.append(substring)\n",
    "            substring = \"\"\n",
    "        else:\n",
    "            substring += char\n",
    "    split.append(substring)\n",
    "    return split\n",
    "\n",
    "split_function(\"Hello world, my name is Bernado and I'm learning Python\", \" \")"
   ]
  },
  {
   "cell_type": "code",
   "execution_count": 1,
   "metadata": {},
   "outputs": [
    {
     "name": "stdout",
     "output_type": "stream",
     "text": [
      "aa4b\n"
     ]
    }
   ],
   "source": [
    "# 17. Write a function to decode a given run-length encoded string (e.g., \"a3b2\" -> \"aaabb\").\n",
    "def run_lengt_decoder(string):\n",
    "    new_string = string[0]\n",
    "    last_char = string[0]\n",
    "    for char in string[1:]:\n",
    "        if char in range(0,9):\n",
    "            char.toin\n",
    "            for _ in range(0,char):\n",
    "                new_string += last_char\n",
    "        else:\n",
    "            new_string += last_char\n",
    "            last_char = char\n",
    "    return new_string\n",
    "\n",
    "print(run_lengt_decoder(\"a4b2\"))"
   ]
  },
  {
   "cell_type": "code",
   "execution_count": 5,
   "metadata": {},
   "outputs": [
    {
     "name": "stdout",
     "output_type": "stream",
     "text": [
      "aaaabb\n"
     ]
    }
   ],
   "source": [
    "# 17. Write a function to decode a given run-length encoded string (e.g., \"a3b2\" -> \"aaabb\").\n",
    "def run_length_decoder(string):\n",
    "    new_string = \"\"\n",
    "    i = 0\n",
    "    while i < len(string):\n",
    "        char = string[i]\n",
    "        i += 1\n",
    "        num = \"\"\n",
    "        while i < len(string) and string[i].isdigit():\n",
    "            num += string[i]\n",
    "            i += 1\n",
    "        new_string += char * int(num)\n",
    "    return new_string\n",
    "\n",
    "print(run_length_decoder(\"a4b2\"))"
   ]
  },
  {
   "cell_type": "code",
   "execution_count": 20,
   "metadata": {},
   "outputs": [],
   "source": [
    "# 18. Implement a function to check if one string is a rotation of another.\n",
    "def is_rotated(string1, string2):\n",
    "    concatenated = string1+string1\n",
    "    "
   ]
  },
  {
   "cell_type": "code",
   "execution_count": 21,
   "metadata": {},
   "outputs": [],
   "source": [
    "# 19. Create a function to find all permutations of a given string.\n",
    "def all_permutations(string):\n",
    "    permutations_list = []\n",
    "    i = 0\n",
    "    while i < len(string):\n",
    "        n = 0\n",
    "        while n < len(string):\n",
    "            "
   ]
  },
  {
   "cell_type": "code",
   "execution_count": 3,
   "metadata": {},
   "outputs": [
    {
     "name": "stdout",
     "output_type": "stream",
     "text": [
      "18\n"
     ]
    }
   ],
   "source": [
    "# 20. Write a function to implement a basic version of the `str.index` method.\n",
    "def index(string, char):\n",
    "    string = string.lower()\n",
    "    char = char.lower()\n",
    "    count = 0\n",
    "    for character in string:\n",
    "        if character == char:\n",
    "            break\n",
    "        else:\n",
    "            count += 1\n",
    "    return count\n",
    "\n",
    "print(index(\"Hello, my name is Bernardo\", 'B'))"
   ]
  },
  {
   "cell_type": "markdown",
   "metadata": {},
   "source": [
    "## Topic 2: Working with Dictionaries and Other Data Structures\n",
    "\n",
    "1. Create a dictionary to store the squares of numbers from 1 to 10.\n",
    "2. Write a program to merge two dictionaries.\n",
    "3. Implement a function to count the occurrences of each word in a given sentence.\n",
    "4. Create a dictionary from two lists: one for keys and one for values.\n",
    "5. Write a program to check if a given key exists in a dictionary.\n",
    "6. Implement a function to invert a dictionary (swap keys and values).\n",
    "7. Write a program to find the key with the highest value in a dictionary.\n",
    "8. Implement a function to sort a dictionary by its values.\n",
    "9. Write a program to remove all duplicate values from a list.\n",
    "10. Create a set containing unique elements from a list.\n",
    "11. Implement a function to find the intersection of two sets.\n",
    "12. Write a program to check if one set is a subset of another.\n",
    "13. Implement a function to find the union of two dictionaries.\n",
    "14. Write a program to flatten a nested list.\n",
    "15. Create a function to find the most frequent element in a list.\n",
    "16. Implement a stack using a list with push and pop operations.\n",
    "17. Write a program to check if a given list is a palindrome.\n",
    "18. Implement a queue using a list with enqueue and dequeue operations.\n",
    "19. Write a program to convert a list of tuples into a dictionary.\n",
    "20. Create a function to find the common elements in two lists.\n"
   ]
  },
  {
   "cell_type": "code",
   "execution_count": 23,
   "metadata": {},
   "outputs": [
    {
     "name": "stdout",
     "output_type": "stream",
     "text": [
      "{1: 1, 2: 4, 3: 9, 4: 16, 5: 25, 6: 36, 7: 49, 8: 64, 9: 81, 10: 100}\n"
     ]
    }
   ],
   "source": [
    "# 1. Create a dictionary to store the squares of numbers from 1 to 10.\n",
    "squares_dict = {num: num**2 for num in range(1, 11)}\n",
    "\n",
    "# Ejemplo de uso\n",
    "print(squares_dict)"
   ]
  },
  {
   "cell_type": "code",
   "execution_count": 20,
   "metadata": {},
   "outputs": [
    {
     "name": "stdout",
     "output_type": "stream",
     "text": [
      "{0: 'cero', 1: 'uno', 2: 'dos', 3: 'tres', 4: 'cuatro', 5: 'cinco', 6: 'seis'}\n"
     ]
    }
   ],
   "source": [
    "# 2. Write a program to merge two dictionaries.\n",
    "d1 = {\n",
    "    0:\"cero\",\n",
    "    1:\"uno\",\n",
    "    2:\"dos\",\n",
    "    3:\"tres\",\n",
    "}\n",
    "d2 = {\n",
    "    4:\"cuatro\",\n",
    "    5:\"cinco\",\n",
    "    6:\"seis\"\n",
    "}\n",
    "\n",
    "d3 = d1 | d2\n",
    "\n",
    "print(d3)"
   ]
  },
  {
   "cell_type": "code",
   "execution_count": 22,
   "metadata": {},
   "outputs": [
    {
     "name": "stdout",
     "output_type": "stream",
     "text": [
      "{'hello': 2, 'my': 1, 'name': 2, 'is': 1}\n"
     ]
    }
   ],
   "source": [
    "# 3. Implement a function to count the occurrences of each word in a given sentence.\n",
    "def count_words_occurrences(string):\n",
    "    string = string.lower()\n",
    "    occurrences_list = string.split(\" \")\n",
    "    dict_words_occurrences = {word: occurrences_list.count(word) for word in occurrences_list}\n",
    "    return dict_words_occurrences\n",
    "\n",
    "print(count_words_occurrences(\"Hello my name is name hello\"))"
   ]
  },
  {
   "cell_type": "code",
   "execution_count": null,
   "metadata": {},
   "outputs": [],
   "source": [
    "# 4. Create a dictionary from two lists: one for keys and one for values."
   ]
  },
  {
   "cell_type": "code",
   "execution_count": null,
   "metadata": {},
   "outputs": [],
   "source": [
    "# 5. Write a program to check if a given key exists in a dictionary."
   ]
  },
  {
   "cell_type": "code",
   "execution_count": null,
   "metadata": {},
   "outputs": [],
   "source": [
    "# 6. Implement a function to invert a dictionary (swap keys and values)."
   ]
  },
  {
   "cell_type": "code",
   "execution_count": null,
   "metadata": {},
   "outputs": [],
   "source": [
    "# 7. Write a program to find the key with the highest value in a dictionary."
   ]
  },
  {
   "cell_type": "code",
   "execution_count": null,
   "metadata": {},
   "outputs": [],
   "source": [
    "# 8. Implement a function to sort a dictionary by its values."
   ]
  },
  {
   "cell_type": "code",
   "execution_count": null,
   "metadata": {},
   "outputs": [],
   "source": [
    "# 9. Write a program to remove all duplicate values from a list."
   ]
  },
  {
   "cell_type": "code",
   "execution_count": null,
   "metadata": {},
   "outputs": [],
   "source": [
    "# 10. Create a set containing unique elements from a list."
   ]
  },
  {
   "cell_type": "code",
   "execution_count": null,
   "metadata": {},
   "outputs": [],
   "source": [
    "# 11. Implement a function to find the intersection of two sets."
   ]
  },
  {
   "cell_type": "markdown",
   "metadata": {},
   "source": [
    "## Topic 3: Text Processing Including Working with Text Files\n",
    "\n",
    "1. Write a program to read a text file and print its contents.\n",
    "2. Write a program to count the number of lines in a text file.\n",
    "3. Write a program to count the number of words in a text file.\n",
    "4. Write a program to count the number of characters in a text file.\n",
    "5. Write a program to find and print the longest word in a text file.\n",
    "6. Write a program to replace a word in a text file with another word.\n",
    "7. Write a program to append a line to a text file.\n",
    "8. Write a program to reverse the contents of a text file and write it to a new file.\n",
    "9. Write a program to find the frequency of each word in a text file.\n",
    "10. Write a program to read a text file and print only the lines that start with a specific letter.\n",
    "11. Write a program to create a new file that contains only unique words from a given text file.\n",
    "12. Write a program to merge the contents of two text files into a third file.\n",
    "13. Write a program to remove all punctuation from a text file and write the result to a new file.\n",
    "14. Write a program to count the occurrences of a specific word in a text file.\n",
    "15. Write a program to check if a specific word exists in a text file.\n",
    "16. Write a program to split a text file into multiple smaller files, each containing a fixed number of lines.\n",
    "17. Write a program to find all palindromic words in a text file.\n",
    "18. Write a program to sort the words in a text file alphabetically and save the result to a new file.\n",
    "19. Write a program to capitalize the first letter of every word in a text file.\n",
    "20. Write a program to remove duplicate lines from a text file and save the result to a new file."
   ]
  },
  {
   "cell_type": "code",
   "execution_count": null,
   "metadata": {},
   "outputs": [],
   "source": [
    "import pandas as pd"
   ]
  },
  {
   "cell_type": "code",
   "execution_count": null,
   "metadata": {},
   "outputs": [],
   "source": [
    "# 1. Write a program to read a text file and print its contents.\n"
   ]
  },
  {
   "cell_type": "markdown",
   "metadata": {},
   "source": [
    "## Topic 4: Pandas Usage Oriented Processing\n",
    "\n",
    "1. Create a DataFrame from a dictionary of lists and display it.\n",
    "2. Add a new column to an existing DataFrame based on calculations from other columns.\n",
    "3. Filter rows in a DataFrame based on a condition.\n",
    "4. Sort a DataFrame by a specific column in ascending order.\n",
    "5. Write a program to rename the columns of a DataFrame.\n",
    "6. Drop rows with missing values from a DataFrame.\n",
    "7. Write a program to fill missing values in a DataFrame with a default value.\n",
    "8. Group a DataFrame by a specific column and calculate the mean of each group.\n",
    "9. Write a program to merge two DataFrames on a common column.\n",
    "10. Write a program to concatenate two DataFrames vertically.\n",
    "11. Create a new column in a DataFrame that is the result of applying a custom function to an existing column.\n",
    "12. Write a program to count the unique values in a specific column of a DataFrame.\n",
    "13. Write a program to find the maximum value in a specific column of a DataFrame.\n",
    "14. Write a program to filter a DataFrame based on multiple conditions.\n",
    "15. Write a program to calculate the correlation matrix of a DataFrame.\n",
    "16. Write a program to apply a lambda function to every element of a column in a DataFrame.\n",
    "17. Write a program to drop duplicate rows from a DataFrame.\n",
    "18. Write a program to reset the index of a DataFrame.\n",
    "19. Write a program to save a DataFrame to a CSV file.\n",
    "20. Write a program to read a CSV file into a DataFrame and display the first five rows."
   ]
  },
  {
   "cell_type": "code",
   "execution_count": 5,
   "metadata": {},
   "outputs": [],
   "source": [
    "import pandas as pd"
   ]
  },
  {
   "cell_type": "code",
   "execution_count": 8,
   "metadata": {},
   "outputs": [
    {
     "data": {
      "text/html": [
       "<div>\n",
       "<style scoped>\n",
       "    .dataframe tbody tr th:only-of-type {\n",
       "        vertical-align: middle;\n",
       "    }\n",
       "\n",
       "    .dataframe tbody tr th {\n",
       "        vertical-align: top;\n",
       "    }\n",
       "\n",
       "    .dataframe thead th {\n",
       "        text-align: right;\n",
       "    }\n",
       "</style>\n",
       "<table border=\"1\" class=\"dataframe\">\n",
       "  <thead>\n",
       "    <tr style=\"text-align: right;\">\n",
       "      <th></th>\n",
       "      <th>index</th>\n",
       "      <th>name</th>\n",
       "    </tr>\n",
       "  </thead>\n",
       "  <tbody>\n",
       "  </tbody>\n",
       "</table>\n",
       "</div>"
      ],
      "text/plain": [
       "Empty DataFrame\n",
       "Columns: [index, name]\n",
       "Index: []"
      ]
     },
     "execution_count": 8,
     "metadata": {},
     "output_type": "execute_result"
    }
   ],
   "source": [
    "# 1. Create a DataFrame from a dictionary of lists and display it.\n",
    "dict = {\n",
    "    0:\"cero\",\n",
    "    1:\"uno\",\n",
    "    2:\"dos\",\n",
    "    3:\"tres\",\n",
    "    4:\"cuatro\",\n",
    "    5:\"cinco\",\n",
    "    6:\"seis\"\n",
    "}\n",
    "df = pd.DataFrame(dict, columns=[\"index\", \"name\"])\n",
    "df.head()"
   ]
  }
 ],
 "metadata": {
  "kernelspec": {
   "display_name": "base",
   "language": "python",
   "name": "python3"
  },
  "language_info": {
   "codemirror_mode": {
    "name": "ipython",
    "version": 3
   },
   "file_extension": ".py",
   "mimetype": "text/x-python",
   "name": "python",
   "nbconvert_exporter": "python",
   "pygments_lexer": "ipython3",
   "version": "3.11.8"
  }
 },
 "nbformat": 4,
 "nbformat_minor": 2
}
