{
 "cells": [
  {
   "cell_type": "markdown",
   "metadata": {},
   "source": [
    "# Exercises end\n",
    "\n",
    "Please solve this exercises using regular expressions. Do it **WITHOUT ANY AI HELP**."
   ]
  },
  {
   "cell_type": "code",
   "execution_count": 4,
   "metadata": {},
   "outputs": [],
   "source": [
    "### Regular Expressions: 20 Exercises (Aligned with the Presentation)\n",
    "\n",
    "# Exercise 1: Match a word containing only alphabets\n",
    "# Write a regex to match a word that contains only letters (uppercase or lowercase).\n",
    "\n",
    "# Exercise 2: Match a number with exactly 3 digits\n",
    "# Write a regex to match numbers with exactly 3 digits.\n",
    "\n",
    "# Exercise 3: Extract the domain from an email\n",
    "# Extract the domain (e.g., \"example.com\") from an email address.\n",
    "\n",
    "# Exercise 4: Find words starting with 'a'\n",
    "# Match all words that start with the letter 'a' in a given sentence.\n",
    "\n",
    "# Exercise 5: Validate a phone number\n",
    "# Validate phone numbers in the format (123) 456-7890.\n",
    "\n",
    "# Exercise 6: Match dates in the format yyyy-mm-dd\n",
    "# Write a regex to validate dates in the format yyyy-mm-dd.\n",
    "\n",
    "# Exercise 7: Find repeated words\n",
    "# Identify words that appear consecutively (e.g., \"word word\").\n",
    "\n",
    "# Exercise 8: Extract hashtags from a tweet\n",
    "# Extract all hashtags from a given tweet.\n",
    "\n",
    "# Exercise 9: Validate an IPv4 address\n",
    "# Write a regex to validate an IPv4 address (e.g., 192.168.1.1).\n",
    "\n",
    "# Exercise 10: Match floating-point numbers\n",
    "# Write a regex to match floating-point numbers (e.g., 3.14, -2.71).\n",
    "\n",
    "# Exercise 11: Validate a strong password\n",
    "# Validate a password with at least 8 characters, including one uppercase, one lowercase, one number, and one special character.\n",
    "\n",
    "# Exercise 12: Match a hexadecimal color code\n",
    "# Write a regex to match valid hexadecimal color codes (e.g., #FFFFFF, #abc123).\n",
    "\n",
    "# Exercise 13: Extract text inside quotes\n",
    "# Extract text enclosed within double quotation marks.\n",
    "\n",
    "# Exercise 14: Match HTML tags\n",
    "# Write a regex to match opening HTML tags (e.g., <div>, <a>, <span>).\n",
    "\n",
    "# Exercise 15: Match time in HH:MM 24-hour format\n",
    "# Write a regex to validate time in the 24-hour format (e.g., 23:59).\n",
    "\n",
    "# Exercise 16: Extract file extensions\n",
    "# Extract the file extension (e.g., .txt, .png) from a filename.\n",
    "\n",
    "# Exercise 17: Validate a URL\n",
    "# Write a regex to validate a URL (e.g., https://www.example.com).\n",
    "\n",
    "# Exercise 18: Extract vowels from a sentence\n",
    "# Extract all vowels from a given sentence.\n",
    "\n",
    "# Exercise 19: Match binary numbers\n",
    "# Write a regex to match valid binary numbers (e.g., 1010, 111).\n",
    "\n",
    "# Exercise 20: Find overlapping patterns\n",
    "# Write a regex to find overlapping occurrences of \"ab\" in a string (e.g., in \"abab\", match both \"ab\"s).\n"
   ]
  },
  {
   "cell_type": "code",
   "execution_count": 5,
   "metadata": {},
   "outputs": [],
   "source": [
    "import re"
   ]
  },
  {
   "cell_type": "code",
   "execution_count": 6,
   "metadata": {},
   "outputs": [
    {
     "name": "stdout",
     "output_type": "stream",
     "text": [
      "'Hello': True\n",
      "'world': True\n",
      "'123': False\n",
      "'hello123': False\n",
      "'HELLO': True\n",
      "'world!': False\n"
     ]
    }
   ],
   "source": [
    "# Exercise 1: Match a word containing only alphabets\n",
    "# Write a regex to match a word that contains only letters (uppercase or lowercase).\n",
    "test_strings = [\"Hello\", \"world\", \"123\", \"hello123\", \"HELLO\", \"world!\"]\n",
    "pattern = r'^[A-Za-z]+$'\n",
    "# ^: el inicio de una cadena\n",
    "# [A-Za-z] todas las letras tanto mayúscula como minúsculas\n",
    "# + tiene q haber por lo menos una letra\n",
    "# $ final\n",
    "for string in test_strings:\n",
    "    if re.match(pattern, string):\n",
    "        print(f\"'{string}': True\")\n",
    "    else:\n",
    "        print(f\"'{string}': False\")"
   ]
  },
  {
   "cell_type": "code",
   "execution_count": 7,
   "metadata": {},
   "outputs": [
    {
     "name": "stdout",
     "output_type": "stream",
     "text": [
      "'123': True\n",
      "'h0l4': False\n",
      "'11111': False\n",
      "'456': True\n"
     ]
    }
   ],
   "source": [
    "# Exercise 2: Match a number with exactly 3 digits\n",
    "# Write a regex to match numbers with exactly 3 digits.\n",
    "test_strings = [\"123\", \"h0l4\", \"11111\", \"456\"]\n",
    "pattern = r'^[0-9]{3}$'\n",
    "\n",
    "for string in test_strings:\n",
    "    if re.match(pattern, string):\n",
    "        print(f\"'{string}': True\")\n",
    "    else:\n",
    "        print(f\"'{string}': False\")"
   ]
  },
  {
   "cell_type": "code",
   "execution_count": 29,
   "metadata": {},
   "outputs": [
    {
     "name": "stdout",
     "output_type": "stream",
     "text": [
      "bernardo@gmail.com: gmail.com\n",
      "asdf@@31: not an email\n",
      "maria@example.com: example.com\n",
      "mateo@hotmail.com: hotmail.com\n"
     ]
    }
   ],
   "source": [
    "# Exercise 3: Extract the domain from an email\n",
    "# Extract the domain (e.g., \"example.com\") from an email address.\n",
    "test_strings = [\"bernardo@gmail.com\", \"asdf@@31\", \"maria@example.com\", \"mateo@hotmail.com\"]\n",
    "pattern = r'@([A-Za-z0-9.-]+\\.[A-Za-z]{2,})'\n",
    "\n",
    "for email in test_strings:\n",
    "    match = re.search(pattern, email)\n",
    "    if match:\n",
    "        print(f\"{email}: {match.group(1)}\")\n",
    "    else:\n",
    "        print(f\"{email}: not an email\")"
   ]
  },
  {
   "cell_type": "code",
   "execution_count": null,
   "metadata": {},
   "outputs": [
    {
     "name": "stdout",
     "output_type": "stream",
     "text": [
      "[' as ', ' a ', ' abundance ', ' art ', ' And ', ' And ', ' and ']\n"
     ]
    }
   ],
   "source": [
    "# Exercise 4: Find words starting with 'a'\n",
    "# Match all words that start with the letter 'a' in a given sentence.\n",
    "string = '''From fairest creatures we desire increase,\n",
    "  That thereby beauty's rose might never die,\n",
    "  But as the riper should by time decease,\n",
    "  His tender heir might bear his memory:\n",
    "  But thou contracted to thine own bright eyes,\n",
    "  Feed'st thy light's flame with self-substantial fuel,\n",
    "  Making a famine where abundance lies,\n",
    "  Thy self thy foe, to thy sweet self too cruel:\n",
    "  Thou that art now the world's fresh ornament,\n",
    "  And only herald to the gaudy spring,\n",
    "  Within thine own bud buriest thy content,\n",
    "  And tender churl mak'st waste in niggarding:\n",
    "  Pity the world, or else this glutton be,\n",
    "  To eat the world's due, by the grave and thee.'''\n",
    "\n",
    "pattern = r'\\b[aA][a-zA-Z]*\\b'\n",
    "start_with_a = re.findall(pattern, string)\n",
    "\n",
    "print(start_with_a)"
   ]
  },
  {
   "cell_type": "code",
   "execution_count": 10,
   "metadata": {},
   "outputs": [
    {
     "name": "stdout",
     "output_type": "stream",
     "text": [
      "(456) 123-989: False\n",
      "(123) 456-7890: True\n",
      "(123) 45h-7890: False\n"
     ]
    }
   ],
   "source": [
    "# Exercise 5: Validate a phone number\n",
    "# Validate phone numbers in the format (123) 456-7890.\n",
    "test_numbers = [\"(456) 123-989\", \"(123) 456-7890\", \"(123) 45h-7890\"]\n",
    "pattern = r'^\\([0-9]{3}\\)\\s[0-9]{3}-[0-9]{4}$'\n",
    "\n",
    "for number in test_numbers:\n",
    "    if re.match(pattern, number):\n",
    "        print(f\"{number}: True\")\n",
    "    else:\n",
    "        print(f\"{number}: False\")\n"
   ]
  },
  {
   "cell_type": "code",
   "execution_count": 11,
   "metadata": {},
   "outputs": [
    {
     "name": "stdout",
     "output_type": "stream",
     "text": [
      "2004-01-01: True\n",
      "2024-02-02: True\n",
      "hello: False\n",
      "20040202: False\n",
      "52024-02-023: False\n"
     ]
    }
   ],
   "source": [
    "# Exercise 6: Match dates in the format yyyy-mm-dd\n",
    "# Write a regex to validate dates in the format yyyy-mm-dd.\n",
    "test_numbers = ['2004-01-01', '2024-02-02', 'hello', '20040202', '52024-02-023']\n",
    "pattern = r'^[0-9]{4}-[0-9]{2}-[0-9]{2}$'\n",
    "\n",
    "for number in test_numbers:\n",
    "    if re.match(pattern, number):\n",
    "        print(f\"{number}: True\")\n",
    "    else:\n",
    "        print(f\"{number}: False\")"
   ]
  },
  {
   "cell_type": "code",
   "execution_count": 12,
   "metadata": {},
   "outputs": [
    {
     "name": "stdout",
     "output_type": "stream",
     "text": [
      "['hello', 'am', 'this', 'happy']\n"
     ]
    }
   ],
   "source": [
    "# Exercise 7: Find repeated words\n",
    "# Identify words that appear consecutively (e.g., \"word word\").\n",
    "text = \"Hello hello I am am coding this this and I am happy happy hayppy\"\n",
    "text = text.lower()\n",
    "\n",
    "pattern = r'\\b(\\w+)\\s+\\1\\b'\n",
    "repeated_words = re.findall(pattern, text)\n",
    "print(repeated_words)"
   ]
  },
  {
   "cell_type": "code",
   "execution_count": 13,
   "metadata": {},
   "outputs": [
    {
     "name": "stdout",
     "output_type": "stream",
     "text": [
      "['#coding', '#happy']\n"
     ]
    }
   ],
   "source": [
    "# Exercise 8: Extract hashtags from a tweet\n",
    "# Extract all hashtags from a given tweet.\n",
    "text = \"Hello I am am #coding this and I am #happy\"\n",
    "\n",
    "pattern = r'#\\w+'\n",
    "hastags = re.findall(pattern, text)\n",
    "print(hastags)"
   ]
  },
  {
   "cell_type": "code",
   "execution_count": 14,
   "metadata": {},
   "outputs": [
    {
     "name": "stdout",
     "output_type": "stream",
     "text": [
      "False\n"
     ]
    }
   ],
   "source": [
    "# Exercise 9: Validate an IPv4 address\n",
    "# Write a regex to validate an IPv4 address (e.g., 192.168.1.1).\n",
    "text = \"192.168.1.1\"\n",
    "examples = {\"-1.2.3.4\":False, \"0.0.0.0\":True, \"192.168.0.1\":True}\n",
    "#pattern = r\"([012]?[0-9]?[0-9]\\.){3}[012]?[0-9]?[0-9]$\"\n",
    "pattern = r\"([01]?[0-9]?[0-9]|2[04][0-9]|25[0-5]\\.){3}([01]?[0-9]?[0-9]|2[04][0-9]|25[0-5])$\"\n",
    "print(bool(re.match(pattern, text)))"
   ]
  },
  {
   "cell_type": "code",
   "execution_count": 15,
   "metadata": {},
   "outputs": [],
   "source": [
    "# Exercise 10: Match floating-point numbers\n",
    "# Write a regex to match floating-point numbers (e.g., 3.14, -2.71).\n",
    "test_numbers = ['15', '2024-02-02', '3.14', '-2.71', '2.3.4']\n",
    "pattern = r'^-?[0-9]+\\.[0-9]+$'"
   ]
  },
  {
   "cell_type": "code",
   "execution_count": 16,
   "metadata": {},
   "outputs": [
    {
     "name": "stdout",
     "output_type": "stream",
     "text": [
      "Password123!: True\n",
      "messi: False\n",
      "CristianoRnld1: False\n",
      "YeremaY1: False\n",
      "Mel$L@19: True\n"
     ]
    }
   ],
   "source": [
    "# Exercise 11: Validate a strong password\n",
    "# Validate a password with at least 8 characters, including one uppercase, one lowercase, one number, and one special character.\n",
    "passwords = [\"Password123!\", \"messi\", \"CristianoRnld1\", \"YeremaY1\", \"Mel$L@19\"]\n",
    "pattern = r'^(?=.*[a-z])(?=.*[A-Z])(?=.*\\d)(?=.*[@$!%*?&])[A-Za-z\\d@$!%*?&]{8,}$'\n",
    "\n",
    "p = re.compile(pattern)\n",
    "for password in passwords:\n",
    "    if p.match(password):\n",
    "        print(f\"{password}: True\")\n",
    "    else:\n",
    "        print(f\"{password}: False\")"
   ]
  },
  {
   "cell_type": "code",
   "execution_count": 17,
   "metadata": {},
   "outputs": [
    {
     "name": "stdout",
     "output_type": "stream",
     "text": [
      "#FFFFFF: True\n",
      "#abc123: True\n",
      "##a123: False\n",
      "#q123a: False\n",
      "ffffff: False\n",
      "#gggggg: False\n"
     ]
    }
   ],
   "source": [
    "# Exercise 12: Match a hexadecimal color code\n",
    "# Write a regex to match valid hexadecimal color codes (e.g., #FFFFFF, #abc123).\n",
    "codes = [\"#FFFFFF\", \"#abc123\", \"##a123\", \"#q123a\", \"ffffff\", \"#gggggg\"]\n",
    "pattern = r'^#[a-fA-F0-9]{6}$'\n",
    "\n",
    "for code in codes:\n",
    "    if re.match(pattern, code):\n",
    "        print(f\"{code}: True\")\n",
    "    else:\n",
    "        print(f\"{code}: False\")"
   ]
  },
  {
   "cell_type": "code",
   "execution_count": 18,
   "metadata": {},
   "outputs": [
    {
     "name": "stdout",
     "output_type": "stream",
     "text": [
      "['\"Bernardo\"', '\"happy\"']\n"
     ]
    }
   ],
   "source": [
    "# Exercise 13: Extract text inside quotes\n",
    "# Extract text enclosed within double quotation marks.\n",
    "\n",
    "text = 'Hello I am \"Bernardo\". I am coding this and I am \"happy\"'\n",
    "\n",
    "pattern = r'\"\\w+\"'\n",
    "quotation = re.findall(pattern, text)\n",
    "print(quotation)"
   ]
  },
  {
   "cell_type": "code",
   "execution_count": 19,
   "metadata": {},
   "outputs": [
    {
     "name": "stdout",
     "output_type": "stream",
     "text": [
      "['<html lang=\"es\">', '<head>', '<meta charset=\"UTF-8\">', '<meta name=\"viewport\" content=\"width=device-width, initial-scale=1.0\">', '<title>', '<body>', '<h1>', '<p>', '<strong>', '<em>', '<u>', '<ul>', '<li>', '<li>', '<li>']\n"
     ]
    }
   ],
   "source": [
    "# Exercise 14: Match HTML tags\n",
    "# Write a regex to match opening HTML tags (e.g., <div>, <a>, <span>).\n",
    "text = '''\n",
    "<!DOCTYPE html>\n",
    "<html lang=\"es\">\n",
    "<head>\n",
    "    <meta charset=\"UTF-8\">\n",
    "    <meta name=\"viewport\" content=\"width=device-width, initial-scale=1.0\">\n",
    "    <title>Ejemplo de Texto en HTML</title>\n",
    "</head>\n",
    "<body>\n",
    "    <h1>Ejemplo de Texto en HTML</h1>\n",
    "    <p>Este es un párrafo de ejemplo en HTML. Puedes usar etiquetas HTML para dar formato al texto, como <strong>negrita</strong>, <em>cursiva</em>, y <u>subrayado</u>.</p>\n",
    "    <ul>\n",
    "        <li>Elemento de lista 1</li>\n",
    "        <li>Elemento de lista 2</li>\n",
    "        <li>Elemento de lista 3</li>\n",
    "    </ul>\n",
    "</body>\n",
    "</html>'''\n",
    "\n",
    "pattern = r'<\\w+[^>]*>'\n",
    "\n",
    "tags = re.findall(pattern, text)\n",
    "print(tags)"
   ]
  },
  {
   "cell_type": "code",
   "execution_count": 20,
   "metadata": {},
   "outputs": [
    {
     "name": "stdout",
     "output_type": "stream",
     "text": [
      "Match found:  [('08', '30'), ('09', '45'), ('22', '09')]\n"
     ]
    }
   ],
   "source": [
    "# Exercise 15: Match time in HH:MM 24-hour format\n",
    "# Write a regex to validate time in the 24-hour format (e.g., 23:59).\n",
    "\n",
    "p = re.compile(r'([01][0-9]|2[0-3]):([0-5][0-9])')\n",
    "m = p.findall(\"I get up at 08:30, go to school at 09:45 and go to sleep at 22:09\")\n",
    "if m:\n",
    "    print('Match found: ', m)\n",
    "else:\n",
    "    print('No match')"
   ]
  },
  {
   "cell_type": "code",
   "execution_count": 21,
   "metadata": {},
   "outputs": [
    {
     "name": "stdout",
     "output_type": "stream",
     "text": [
      "['.txt', '.ipynb', '.png']\n"
     ]
    }
   ],
   "source": [
    "# Exercise 16: Extract file extensions\n",
    "# Extract the file extension (e.g., .txt, .png) from a filename.\n",
    "\n",
    "string = \"The file's name in this folder are shakes.txt, 1_exercises.ipynb and image.png\"\n",
    "#pattern_filename = r'[a-zA-Z0-9.-]+\\.[a-z]+'   and later, I would match only the extension of the filenames with a loop in that list\n",
    "pattern_filename = r'\\.[a-z]+'\n",
    "match = re.findall(pattern_filename, string)\n",
    "print(match)"
   ]
  },
  {
   "cell_type": "code",
   "execution_count": 22,
   "metadata": {},
   "outputs": [
    {
     "name": "stdout",
     "output_type": "stream",
     "text": [
      "https://www.example.com: True\n",
      "https://www.zara.es: True\n",
      "https://campusvirtual.uie.edu: False\n"
     ]
    }
   ],
   "source": [
    "# Exercise 17: Validate a URL\n",
    "# Write a regex to validate a URL (e.g., https://www.example.com).\n",
    "urls = [\"https://www.example.com\", \"https://www.zara.es\", \"https://campusvirtual.uie.edu\"]\n",
    "pattern = r'^https://www\\.[a-zA-Z0-9.-]+\\.[a-z]{2,}$'\n",
    "\n",
    "p = re.compile(pattern)\n",
    "\n",
    "for url in urls:\n",
    "    if p.match(url):\n",
    "        print(f\"{url}: True\")\n",
    "    else:\n",
    "        print(f\"{url}: False\")"
   ]
  },
  {
   "cell_type": "code",
   "execution_count": 23,
   "metadata": {},
   "outputs": [
    {
     "name": "stdout",
     "output_type": "stream",
     "text": [
      "['I', 'e', 'u', 'a', 'o', 'o', 'o', 'o', 'a', 'a', 'o', 'o', 'e', 'e', 'a']\n"
     ]
    }
   ],
   "source": [
    "# Exercise 18: Extract vowels from a sentence\n",
    "# Extract all vowels from a given sentence.\n",
    "text = \"I get up at 08:30, go to school at 09:45 and go to sleep at 22:09\"\n",
    "pattern = r'[AEIOUaeiou]'\n",
    "\n",
    "match = re.findall(pattern, text)\n",
    "print(match)"
   ]
  },
  {
   "cell_type": "code",
   "execution_count": 24,
   "metadata": {},
   "outputs": [
    {
     "name": "stdout",
     "output_type": "stream",
     "text": [
      "1010: True\n",
      "111: True\n",
      "0: True\n",
      "101010100: True\n",
      "0101012: False\n"
     ]
    }
   ],
   "source": [
    "# Exercise 19: Match binary numbers\n",
    "# Write a regex to match valid binary numbers (e.g., 1010, 111).\n",
    "numbers = [\"1010\", \"111\", \"0\", \"101010100\", \"0101012\"]\n",
    "pattern = r'^[01]+$'\n",
    "\n",
    "pattern = re.compile(pattern)\n",
    "\n",
    "for number in numbers:\n",
    "    if pattern.match(number):\n",
    "        print(f\"{number}: True\")\n",
    "    else:\n",
    "        print(f\"{number}: False\")"
   ]
  },
  {
   "cell_type": "code",
   "execution_count": 25,
   "metadata": {},
   "outputs": [
    {
     "name": "stdout",
     "output_type": "stream",
     "text": [
      "abab: ['ab', 'ab']\n",
      "ab: False\n",
      "cababc: ['ab', 'ab']\n",
      "ccababab: ['ab', 'ab', 'ab']\n",
      "ababcabab: ['ab', 'ab', 'ab', 'ab']\n"
     ]
    }
   ],
   "source": [
    "# Exercise 20: Find overlapping patterns\n",
    "# Write a regex to find overlapping occurrences of \"ab\" in a string (e.g., in \"abab\", match both \"ab\"s).\n",
    "strings = [\"abab\", \"ab\", \"cababc\", \"ccababab\", \"ababcabab\"]\n",
    "pattern = r'[a-zA-Z0-9.-]*abab'\n",
    "pattern2 = r'ab'\n",
    "\n",
    "pattern = re.compile(pattern)\n",
    "pattern2 = re.compile(pattern2)\n",
    "\n",
    "for string in strings:\n",
    "\n",
    "    if pattern.match(string):\n",
    "        print(f\"{string}: {pattern2.findall(string)}\")\n",
    "    else:\n",
    "        print(f\"{string}: False\")"
   ]
  }
 ],
 "metadata": {
  "kernelspec": {
   "display_name": "base",
   "language": "python",
   "name": "python3"
  },
  "language_info": {
   "codemirror_mode": {
    "name": "ipython",
    "version": 3
   },
   "file_extension": ".py",
   "mimetype": "text/x-python",
   "name": "python",
   "nbconvert_exporter": "python",
   "pygments_lexer": "ipython3",
   "version": "3.11.8"
  }
 },
 "nbformat": 4,
 "nbformat_minor": 2
}
