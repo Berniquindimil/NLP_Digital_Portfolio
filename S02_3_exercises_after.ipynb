{
 "cells": [
  {
   "cell_type": "markdown",
   "metadata": {},
   "source": [
    "# Exercises end\n",
    "\n",
    "Please solve this exercises using regular expressions. Do it **WITHOUT ANY AI HELP**."
   ]
  },
  {
   "cell_type": "code",
   "execution_count": null,
   "metadata": {},
   "outputs": [],
   "source": [
    "### Regular Expressions: 20 Exercises (Aligned with the Presentation)\n",
    "\n",
    "# Exercise 1: Match a word containing only alphabets\n",
    "# Write a regex to match a word that contains only letters (uppercase or lowercase).\n",
    "\n",
    "# Exercise 2: Match a number with exactly 3 digits\n",
    "# Write a regex to match numbers with exactly 3 digits.\n",
    "\n",
    "# Exercise 3: Extract the domain from an email\n",
    "# Extract the domain (e.g., \"example.com\") from an email address.\n",
    "\n",
    "# Exercise 4: Find words starting with 'a'\n",
    "# Match all words that start with the letter 'a' in a given sentence.\n",
    "\n",
    "# Exercise 5: Validate a phone number\n",
    "# Validate phone numbers in the format (123) 456-7890.\n",
    "\n",
    "# Exercise 6: Match dates in the format yyyy-mm-dd\n",
    "# Write a regex to validate dates in the format yyyy-mm-dd.\n",
    "\n",
    "# Exercise 7: Find repeated words\n",
    "# Identify words that appear consecutively (e.g., \"word word\").\n",
    "\n",
    "# Exercise 8: Extract hashtags from a tweet\n",
    "# Extract all hashtags from a given tweet.\n",
    "\n",
    "# Exercise 9: Validate an IPv4 address\n",
    "# Write a regex to validate an IPv4 address (e.g., 192.168.1.1).\n",
    "\n",
    "# Exercise 10: Match floating-point numbers\n",
    "# Write a regex to match floating-point numbers (e.g., 3.14, -2.71).\n",
    "\n",
    "# Exercise 11: Validate a strong password\n",
    "# Validate a password with at least 8 characters, including one uppercase, one lowercase, one number, and one special character.\n",
    "\n",
    "# Exercise 12: Match a hexadecimal color code\n",
    "# Write a regex to match valid hexadecimal color codes (e.g., #FFFFFF, #abc123).\n",
    "\n",
    "# Exercise 13: Extract text inside quotes\n",
    "# Extract text enclosed within double quotation marks.\n",
    "\n",
    "# Exercise 14: Match HTML tags\n",
    "# Write a regex to match opening HTML tags (e.g., <div>, <a>, <span>).\n",
    "\n",
    "# Exercise 15: Match time in HH:MM 24-hour format\n",
    "# Write a regex to validate time in the 24-hour format (e.g., 23:59).\n",
    "\n",
    "# Exercise 16: Extract file extensions\n",
    "# Extract the file extension (e.g., .txt, .png) from a filename.\n",
    "\n",
    "# Exercise 17: Validate a URL\n",
    "# Write a regex to validate a URL (e.g., https://www.example.com).\n",
    "\n",
    "# Exercise 18: Extract vowels from a sentence\n",
    "# Extract all vowels from a given sentence.\n",
    "\n",
    "# Exercise 19: Match binary numbers\n",
    "# Write a regex to match valid binary numbers (e.g., 1010, 111).\n",
    "\n",
    "# Exercise 20: Find overlapping patterns\n",
    "# Write a regex to find overlapping occurrences of \"ab\" in a string (e.g., in \"abab\", match both \"ab\"s).\n"
   ]
  },
  {
   "cell_type": "code",
   "execution_count": 2,
   "metadata": {},
   "outputs": [],
   "source": [
    "import re"
   ]
  },
  {
   "cell_type": "code",
   "execution_count": null,
   "metadata": {},
   "outputs": [],
   "source": [
    "# Exercise 1: Match a word containing only alphabets\n",
    "# Write a regex to match a word that contains only letters (uppercase or lowercase)."
   ]
  },
  {
   "cell_type": "code",
   "execution_count": null,
   "metadata": {},
   "outputs": [],
   "source": [
    "# Exercise 2: Match a number with exactly 3 digits\n",
    "# Write a regex to match numbers with exactly 3 digits."
   ]
  },
  {
   "cell_type": "code",
   "execution_count": null,
   "metadata": {},
   "outputs": [],
   "source": [
    "# Exercise 3: Extract the domain from an email\n",
    "# Extract the domain (e.g., \"example.com\") from an email address."
   ]
  },
  {
   "cell_type": "code",
   "execution_count": null,
   "metadata": {},
   "outputs": [],
   "source": [
    "# Exercise 4: Find words starting with 'a'\n",
    "# Match all words that start with the letter 'a' in a given sentence."
   ]
  },
  {
   "cell_type": "code",
   "execution_count": null,
   "metadata": {},
   "outputs": [],
   "source": [
    "# Exercise 5: Validate a phone number\n",
    "# Validate phone numbers in the format (123) 456-7890."
   ]
  },
  {
   "cell_type": "code",
   "execution_count": null,
   "metadata": {},
   "outputs": [],
   "source": [
    "# Exercise 6: Match dates in the format yyyy-mm-dd\n",
    "# Write a regex to validate dates in the format yyyy-mm-dd."
   ]
  },
  {
   "cell_type": "code",
   "execution_count": null,
   "metadata": {},
   "outputs": [],
   "source": [
    "# Exercise 7: Find repeated words\n",
    "# Identify words that appear consecutively (e.g., \"word word\").\n"
   ]
  },
  {
   "cell_type": "code",
   "execution_count": null,
   "metadata": {},
   "outputs": [],
   "source": [
    "# Exercise 8: Extract hashtags from a tweet\n",
    "# Extract all hashtags from a given tweet."
   ]
  },
  {
   "cell_type": "code",
   "execution_count": 3,
   "metadata": {},
   "outputs": [
    {
     "name": "stdout",
     "output_type": "stream",
     "text": [
      "True\n"
     ]
    }
   ],
   "source": [
    "# Exercise 9: Validate an IPv4 address\n",
    "# Write a regex to validate an IPv4 address (e.g., 192.168.1.1).\n",
    "text = \"192.168.1.1\"\n",
    "examples = {\"-1.2.3.4\":False, \"0.0.0.0\":True, \"192.168.0.1\":True}\n",
    "#pattern = r\"([012]?[0-9]?[0-9]\\.){3}[012]?[0-9]?[0-9]$\"\n",
    "pattern = r\"([01]?[0-9]?[0-9]|2[04][0-9]|25[0-5]\\.){3}([01]?[0-9]?[0-9]|2[04][0-9]|25[0-5])$\"\n",
    "print(bool(re.match(pattern, text)))"
   ]
  },
  {
   "cell_type": "code",
   "execution_count": null,
   "metadata": {},
   "outputs": [],
   "source": [
    "# Exercise 10: Match floating-point numbers\n",
    "# Write a regex to match floating-point numbers (e.g., 3.14, -2.71)."
   ]
  },
  {
   "cell_type": "code",
   "execution_count": null,
   "metadata": {},
   "outputs": [],
   "source": [
    "# Exercise 11: Validate a strong password\n",
    "# Validate a password with at least 8 characters, including one uppercase, one lowercase, one number, and one special character.\n",
    "pattern = r\".{8,}\"\n",
    "print(bool(re.match(pattern, text)))"
   ]
  },
  {
   "cell_type": "code",
   "execution_count": null,
   "metadata": {},
   "outputs": [],
   "source": [
    "# Exercise 12: Match a hexadecimal color code\n",
    "# Write a regex to match valid hexadecimal color codes (e.g., #FFFFFF, #abc123)."
   ]
  },
  {
   "cell_type": "code",
   "execution_count": null,
   "metadata": {},
   "outputs": [],
   "source": [
    "# Exercise 13: Extract text inside quotes\n",
    "# Extract text enclosed within double quotation marks."
   ]
  },
  {
   "cell_type": "code",
   "execution_count": null,
   "metadata": {},
   "outputs": [],
   "source": [
    "# Exercise 14: Match HTML tags\n",
    "# Write a regex to match opening HTML tags (e.g., <div>, <a>, <span>)."
   ]
  },
  {
   "cell_type": "code",
   "execution_count": null,
   "metadata": {},
   "outputs": [],
   "source": [
    "# Exercise 15: Match time in HH:MM 24-hour format\n",
    "# Write a regex to validate time in the 24-hour format (e.g., 23:59)."
   ]
  },
  {
   "cell_type": "code",
   "execution_count": null,
   "metadata": {},
   "outputs": [],
   "source": [
    "# Exercise 16: Extract file extensions\n",
    "# Extract the file extension (e.g., .txt, .png) from a filename."
   ]
  },
  {
   "cell_type": "code",
   "execution_count": null,
   "metadata": {},
   "outputs": [],
   "source": [
    "# Exercise 17: Validate a URL\n",
    "# Write a regex to validate a URL (e.g., https://www.example.com)."
   ]
  },
  {
   "cell_type": "code",
   "execution_count": null,
   "metadata": {},
   "outputs": [],
   "source": [
    "# Exercise 18: Extract vowels from a sentence\n",
    "# Extract all vowels from a given sentence."
   ]
  },
  {
   "cell_type": "code",
   "execution_count": null,
   "metadata": {},
   "outputs": [],
   "source": [
    "# Exercise 19: Match binary numbers\n",
    "# Write a regex to match valid binary numbers (e.g., 1010, 111)."
   ]
  },
  {
   "cell_type": "code",
   "execution_count": null,
   "metadata": {},
   "outputs": [],
   "source": [
    "# Exercise 20: Find overlapping patterns\n",
    "# Write a regex to find overlapping occurrences of \"ab\" in a string (e.g., in \"abab\", match both \"ab\"s)."
   ]
  }
 ],
 "metadata": {
  "kernelspec": {
   "display_name": "base",
   "language": "python",
   "name": "python3"
  },
  "language_info": {
   "codemirror_mode": {
    "name": "ipython",
    "version": 3
   },
   "file_extension": ".py",
   "mimetype": "text/x-python",
   "name": "python",
   "nbconvert_exporter": "python",
   "pygments_lexer": "ipython3",
   "version": "3.11.8"
  }
 },
 "nbformat": 4,
 "nbformat_minor": 2
}
